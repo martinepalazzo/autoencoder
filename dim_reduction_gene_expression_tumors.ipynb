{
  "nbformat": 4,
  "nbformat_minor": 0,
  "metadata": {
    "colab": {
      "name": "pattern_recognition_2020_chapter05_NNs_practice.ipynb",
      "provenance": [],
      "collapsed_sections": []
    },
    "kernelspec": {
      "display_name": "Python 3",
      "language": "python",
      "name": "python3"
    },
    "language_info": {
      "codemirror_mode": {
        "name": "ipython",
        "version": 3
      },
      "file_extension": ".py",
      "mimetype": "text/x-python",
      "name": "python",
      "nbconvert_exporter": "python",
      "pygments_lexer": "ipython3",
      "version": "3.7.4"
    }
  },
  "cells": [
    {
      "cell_type": "markdown",
      "metadata": {
        "id": "YZAJwfprwIlo"
      },
      "source": [
        "____\n",
        "__Universite de Technologie de Troyes__<br/>\n",
        "__Universidad Tecnologica Nacional Buenos Aires__<br/>\n",
        "__Machine Learning & Pattern Recognition__<br/>\n",
        "__Martin Palazzo__<br/>\n",
        "__Data: expression sequence data from Liver and Renal tumor profiles__<br/>\n",
        "__Topic: dimensionality reduction via PCA, kernel-PCA, Autoencoder and VAE__\n",
        "____"
      ]
    },
    {
      "cell_type": "code",
      "metadata": {
        "id": "LwvJA1oDB3dM"
      },
      "source": [
        "# liver 1\n",
        "# renal 0"
      ],
      "execution_count": 1,
      "outputs": []
    },
    {
      "cell_type": "markdown",
      "metadata": {
        "id": "98zmpcuj9Ku6"
      },
      "source": [
        "### Import libraries"
      ]
    },
    {
      "cell_type": "code",
      "metadata": {
        "id": "3IwQhA8Z9Ku7"
      },
      "source": [
        "# basics\n",
        "import pandas as pd\n",
        "import matplotlib.pyplot as plt\n",
        "import seaborn as sns\n",
        "import tensorflow as tf\n",
        "import numpy as np\n",
        "\n",
        "#sklearn\n",
        "from sklearn.cluster import AgglomerativeClustering\n",
        "from sklearn.metrics import silhouette_samples, silhouette_score\n",
        "from sklearn.feature_selection import VarianceThreshold\n",
        "from sklearn.model_selection import train_test_split\n",
        "from sklearn.decomposition import PCA\n",
        "from sklearn.manifold import TSNE\n",
        "\n",
        "#tensorflow keras\n",
        "import keras\n",
        "from keras.layers import Activation\n",
        "from tensorflow.keras import layers\n",
        "from keras.layers.normalization import BatchNormalization\n",
        "from keras import models\n",
        "from keras import layers\n",
        "from keras.layers import Input, Dense\n",
        "from keras.models import Model\n",
        "from keras import regularizers\n",
        "from keras.layers import Dropout\n",
        "from keras import backend as K\n"
      ],
      "execution_count": 2,
      "outputs": []
    },
    {
      "cell_type": "markdown",
      "metadata": {
        "id": "n_C9phIq9KvA"
      },
      "source": [
        "check if we are using GPU or CPU"
      ]
    },
    {
      "cell_type": "code",
      "metadata": {
        "id": "YajEz4Cs9KvB",
        "colab": {
          "base_uri": "https://localhost:8080/"
        },
        "outputId": "49e3e72d-a1d6-4f02-b9f3-5bf3a5d0fed3"
      },
      "source": [
        "from tensorflow.python.client import device_lib\n",
        "print(device_lib.list_local_devices())\n"
      ],
      "execution_count": 3,
      "outputs": [
        {
          "output_type": "stream",
          "text": [
            "[name: \"/device:CPU:0\"\n",
            "device_type: \"CPU\"\n",
            "memory_limit: 268435456\n",
            "locality {\n",
            "}\n",
            "incarnation: 7558971287584314642\n",
            "]\n"
          ],
          "name": "stdout"
        }
      ]
    },
    {
      "cell_type": "markdown",
      "metadata": {
        "id": "Q88C10Jz9KvF"
      },
      "source": [
        "### Import Dataset"
      ]
    },
    {
      "cell_type": "code",
      "metadata": {
        "id": "7wgoSyh89Kv-",
        "colab": {
          "resources": {
            "http://localhost:8080/nbextensions/google.colab/files.js": {
              "data": "Ly8gQ29weXJpZ2h0IDIwMTcgR29vZ2xlIExMQwovLwovLyBMaWNlbnNlZCB1bmRlciB0aGUgQXBhY2hlIExpY2Vuc2UsIFZlcnNpb24gMi4wICh0aGUgIkxpY2Vuc2UiKTsKLy8geW91IG1heSBub3QgdXNlIHRoaXMgZmlsZSBleGNlcHQgaW4gY29tcGxpYW5jZSB3aXRoIHRoZSBMaWNlbnNlLgovLyBZb3UgbWF5IG9idGFpbiBhIGNvcHkgb2YgdGhlIExpY2Vuc2UgYXQKLy8KLy8gICAgICBodHRwOi8vd3d3LmFwYWNoZS5vcmcvbGljZW5zZXMvTElDRU5TRS0yLjAKLy8KLy8gVW5sZXNzIHJlcXVpcmVkIGJ5IGFwcGxpY2FibGUgbGF3IG9yIGFncmVlZCB0byBpbiB3cml0aW5nLCBzb2Z0d2FyZQovLyBkaXN0cmlidXRlZCB1bmRlciB0aGUgTGljZW5zZSBpcyBkaXN0cmlidXRlZCBvbiBhbiAiQVMgSVMiIEJBU0lTLAovLyBXSVRIT1VUIFdBUlJBTlRJRVMgT1IgQ09ORElUSU9OUyBPRiBBTlkgS0lORCwgZWl0aGVyIGV4cHJlc3Mgb3IgaW1wbGllZC4KLy8gU2VlIHRoZSBMaWNlbnNlIGZvciB0aGUgc3BlY2lmaWMgbGFuZ3VhZ2UgZ292ZXJuaW5nIHBlcm1pc3Npb25zIGFuZAovLyBsaW1pdGF0aW9ucyB1bmRlciB0aGUgTGljZW5zZS4KCi8qKgogKiBAZmlsZW92ZXJ2aWV3IEhlbHBlcnMgZm9yIGdvb2dsZS5jb2xhYiBQeXRob24gbW9kdWxlLgogKi8KKGZ1bmN0aW9uKHNjb3BlKSB7CmZ1bmN0aW9uIHNwYW4odGV4dCwgc3R5bGVBdHRyaWJ1dGVzID0ge30pIHsKICBjb25zdCBlbGVtZW50ID0gZG9jdW1lbnQuY3JlYXRlRWxlbWVudCgnc3BhbicpOwogIGVsZW1lbnQudGV4dENvbnRlbnQgPSB0ZXh0OwogIGZvciAoY29uc3Qga2V5IG9mIE9iamVjdC5rZXlzKHN0eWxlQXR0cmlidXRlcykpIHsKICAgIGVsZW1lbnQuc3R5bGVba2V5XSA9IHN0eWxlQXR0cmlidXRlc1trZXldOwogIH0KICByZXR1cm4gZWxlbWVudDsKfQoKLy8gTWF4IG51bWJlciBvZiBieXRlcyB3aGljaCB3aWxsIGJlIHVwbG9hZGVkIGF0IGEgdGltZS4KY29uc3QgTUFYX1BBWUxPQURfU0laRSA9IDEwMCAqIDEwMjQ7CgpmdW5jdGlvbiBfdXBsb2FkRmlsZXMoaW5wdXRJZCwgb3V0cHV0SWQpIHsKICBjb25zdCBzdGVwcyA9IHVwbG9hZEZpbGVzU3RlcChpbnB1dElkLCBvdXRwdXRJZCk7CiAgY29uc3Qgb3V0cHV0RWxlbWVudCA9IGRvY3VtZW50LmdldEVsZW1lbnRCeUlkKG91dHB1dElkKTsKICAvLyBDYWNoZSBzdGVwcyBvbiB0aGUgb3V0cHV0RWxlbWVudCB0byBtYWtlIGl0IGF2YWlsYWJsZSBmb3IgdGhlIG5leHQgY2FsbAogIC8vIHRvIHVwbG9hZEZpbGVzQ29udGludWUgZnJvbSBQeXRob24uCiAgb3V0cHV0RWxlbWVudC5zdGVwcyA9IHN0ZXBzOwoKICByZXR1cm4gX3VwbG9hZEZpbGVzQ29udGludWUob3V0cHV0SWQpOwp9CgovLyBUaGlzIGlzIHJvdWdobHkgYW4gYXN5bmMgZ2VuZXJhdG9yIChub3Qgc3VwcG9ydGVkIGluIHRoZSBicm93c2VyIHlldCksCi8vIHdoZXJlIHRoZXJlIGFyZSBtdWx0aXBsZSBhc3luY2hyb25vdXMgc3RlcHMgYW5kIHRoZSBQeXRob24gc2lkZSBpcyBnb2luZwovLyB0byBwb2xsIGZvciBjb21wbGV0aW9uIG9mIGVhY2ggc3RlcC4KLy8gVGhpcyB1c2VzIGEgUHJvbWlzZSB0byBibG9jayB0aGUgcHl0aG9uIHNpZGUgb24gY29tcGxldGlvbiBvZiBlYWNoIHN0ZXAsCi8vIHRoZW4gcGFzc2VzIHRoZSByZXN1bHQgb2YgdGhlIHByZXZpb3VzIHN0ZXAgYXMgdGhlIGlucHV0IHRvIHRoZSBuZXh0IHN0ZXAuCmZ1bmN0aW9uIF91cGxvYWRGaWxlc0NvbnRpbnVlKG91dHB1dElkKSB7CiAgY29uc3Qgb3V0cHV0RWxlbWVudCA9IGRvY3VtZW50LmdldEVsZW1lbnRCeUlkKG91dHB1dElkKTsKICBjb25zdCBzdGVwcyA9IG91dHB1dEVsZW1lbnQuc3RlcHM7CgogIGNvbnN0IG5leHQgPSBzdGVwcy5uZXh0KG91dHB1dEVsZW1lbnQubGFzdFByb21pc2VWYWx1ZSk7CiAgcmV0dXJuIFByb21pc2UucmVzb2x2ZShuZXh0LnZhbHVlLnByb21pc2UpLnRoZW4oKHZhbHVlKSA9PiB7CiAgICAvLyBDYWNoZSB0aGUgbGFzdCBwcm9taXNlIHZhbHVlIHRvIG1ha2UgaXQgYXZhaWxhYmxlIHRvIHRoZSBuZXh0CiAgICAvLyBzdGVwIG9mIHRoZSBnZW5lcmF0b3IuCiAgICBvdXRwdXRFbGVtZW50Lmxhc3RQcm9taXNlVmFsdWUgPSB2YWx1ZTsKICAgIHJldHVybiBuZXh0LnZhbHVlLnJlc3BvbnNlOwogIH0pOwp9CgovKioKICogR2VuZXJhdG9yIGZ1bmN0aW9uIHdoaWNoIGlzIGNhbGxlZCBiZXR3ZWVuIGVhY2ggYXN5bmMgc3RlcCBvZiB0aGUgdXBsb2FkCiAqIHByb2Nlc3MuCiAqIEBwYXJhbSB7c3RyaW5nfSBpbnB1dElkIEVsZW1lbnQgSUQgb2YgdGhlIGlucHV0IGZpbGUgcGlja2VyIGVsZW1lbnQuCiAqIEBwYXJhbSB7c3RyaW5nfSBvdXRwdXRJZCBFbGVtZW50IElEIG9mIHRoZSBvdXRwdXQgZGlzcGxheS4KICogQHJldHVybiB7IUl0ZXJhYmxlPCFPYmplY3Q+fSBJdGVyYWJsZSBvZiBuZXh0IHN0ZXBzLgogKi8KZnVuY3Rpb24qIHVwbG9hZEZpbGVzU3RlcChpbnB1dElkLCBvdXRwdXRJZCkgewogIGNvbnN0IGlucHV0RWxlbWVudCA9IGRvY3VtZW50LmdldEVsZW1lbnRCeUlkKGlucHV0SWQpOwogIGlucHV0RWxlbWVudC5kaXNhYmxlZCA9IGZhbHNlOwoKICBjb25zdCBvdXRwdXRFbGVtZW50ID0gZG9jdW1lbnQuZ2V0RWxlbWVudEJ5SWQob3V0cHV0SWQpOwogIG91dHB1dEVsZW1lbnQuaW5uZXJIVE1MID0gJyc7CgogIGNvbnN0IHBpY2tlZFByb21pc2UgPSBuZXcgUHJvbWlzZSgocmVzb2x2ZSkgPT4gewogICAgaW5wdXRFbGVtZW50LmFkZEV2ZW50TGlzdGVuZXIoJ2NoYW5nZScsIChlKSA9PiB7CiAgICAgIHJlc29sdmUoZS50YXJnZXQuZmlsZXMpOwogICAgfSk7CiAgfSk7CgogIGNvbnN0IGNhbmNlbCA9IGRvY3VtZW50LmNyZWF0ZUVsZW1lbnQoJ2J1dHRvbicpOwogIGlucHV0RWxlbWVudC5wYXJlbnRFbGVtZW50LmFwcGVuZENoaWxkKGNhbmNlbCk7CiAgY2FuY2VsLnRleHRDb250ZW50ID0gJ0NhbmNlbCB1cGxvYWQnOwogIGNvbnN0IGNhbmNlbFByb21pc2UgPSBuZXcgUHJvbWlzZSgocmVzb2x2ZSkgPT4gewogICAgY2FuY2VsLm9uY2xpY2sgPSAoKSA9PiB7CiAgICAgIHJlc29sdmUobnVsbCk7CiAgICB9OwogIH0pOwoKICAvLyBXYWl0IGZvciB0aGUgdXNlciB0byBwaWNrIHRoZSBmaWxlcy4KICBjb25zdCBmaWxlcyA9IHlpZWxkIHsKICAgIHByb21pc2U6IFByb21pc2UucmFjZShbcGlja2VkUHJvbWlzZSwgY2FuY2VsUHJvbWlzZV0pLAogICAgcmVzcG9uc2U6IHsKICAgICAgYWN0aW9uOiAnc3RhcnRpbmcnLAogICAgfQogIH07CgogIGNhbmNlbC5yZW1vdmUoKTsKCiAgLy8gRGlzYWJsZSB0aGUgaW5wdXQgZWxlbWVudCBzaW5jZSBmdXJ0aGVyIHBpY2tzIGFyZSBub3QgYWxsb3dlZC4KICBpbnB1dEVsZW1lbnQuZGlzYWJsZWQgPSB0cnVlOwoKICBpZiAoIWZpbGVzKSB7CiAgICByZXR1cm4gewogICAgICByZXNwb25zZTogewogICAgICAgIGFjdGlvbjogJ2NvbXBsZXRlJywKICAgICAgfQogICAgfTsKICB9CgogIGZvciAoY29uc3QgZmlsZSBvZiBmaWxlcykgewogICAgY29uc3QgbGkgPSBkb2N1bWVudC5jcmVhdGVFbGVtZW50KCdsaScpOwogICAgbGkuYXBwZW5kKHNwYW4oZmlsZS5uYW1lLCB7Zm9udFdlaWdodDogJ2JvbGQnfSkpOwogICAgbGkuYXBwZW5kKHNwYW4oCiAgICAgICAgYCgke2ZpbGUudHlwZSB8fCAnbi9hJ30pIC0gJHtmaWxlLnNpemV9IGJ5dGVzLCBgICsKICAgICAgICBgbGFzdCBtb2RpZmllZDogJHsKICAgICAgICAgICAgZmlsZS5sYXN0TW9kaWZpZWREYXRlID8gZmlsZS5sYXN0TW9kaWZpZWREYXRlLnRvTG9jYWxlRGF0ZVN0cmluZygpIDoKICAgICAgICAgICAgICAgICAgICAgICAgICAgICAgICAgICAgJ24vYSd9IC0gYCkpOwogICAgY29uc3QgcGVyY2VudCA9IHNwYW4oJzAlIGRvbmUnKTsKICAgIGxpLmFwcGVuZENoaWxkKHBlcmNlbnQpOwoKICAgIG91dHB1dEVsZW1lbnQuYXBwZW5kQ2hpbGQobGkpOwoKICAgIGNvbnN0IGZpbGVEYXRhUHJvbWlzZSA9IG5ldyBQcm9taXNlKChyZXNvbHZlKSA9PiB7CiAgICAgIGNvbnN0IHJlYWRlciA9IG5ldyBGaWxlUmVhZGVyKCk7CiAgICAgIHJlYWRlci5vbmxvYWQgPSAoZSkgPT4gewogICAgICAgIHJlc29sdmUoZS50YXJnZXQucmVzdWx0KTsKICAgICAgfTsKICAgICAgcmVhZGVyLnJlYWRBc0FycmF5QnVmZmVyKGZpbGUpOwogICAgfSk7CiAgICAvLyBXYWl0IGZvciB0aGUgZGF0YSB0byBiZSByZWFkeS4KICAgIGxldCBmaWxlRGF0YSA9IHlpZWxkIHsKICAgICAgcHJvbWlzZTogZmlsZURhdGFQcm9taXNlLAogICAgICByZXNwb25zZTogewogICAgICAgIGFjdGlvbjogJ2NvbnRpbnVlJywKICAgICAgfQogICAgfTsKCiAgICAvLyBVc2UgYSBjaHVua2VkIHNlbmRpbmcgdG8gYXZvaWQgbWVzc2FnZSBzaXplIGxpbWl0cy4gU2VlIGIvNjIxMTU2NjAuCiAgICBsZXQgcG9zaXRpb24gPSAwOwogICAgZG8gewogICAgICBjb25zdCBsZW5ndGggPSBNYXRoLm1pbihmaWxlRGF0YS5ieXRlTGVuZ3RoIC0gcG9zaXRpb24sIE1BWF9QQVlMT0FEX1NJWkUpOwogICAgICBjb25zdCBjaHVuayA9IG5ldyBVaW50OEFycmF5KGZpbGVEYXRhLCBwb3NpdGlvbiwgbGVuZ3RoKTsKICAgICAgcG9zaXRpb24gKz0gbGVuZ3RoOwoKICAgICAgY29uc3QgYmFzZTY0ID0gYnRvYShTdHJpbmcuZnJvbUNoYXJDb2RlLmFwcGx5KG51bGwsIGNodW5rKSk7CiAgICAgIHlpZWxkIHsKICAgICAgICByZXNwb25zZTogewogICAgICAgICAgYWN0aW9uOiAnYXBwZW5kJywKICAgICAgICAgIGZpbGU6IGZpbGUubmFtZSwKICAgICAgICAgIGRhdGE6IGJhc2U2NCwKICAgICAgICB9LAogICAgICB9OwoKICAgICAgbGV0IHBlcmNlbnREb25lID0gZmlsZURhdGEuYnl0ZUxlbmd0aCA9PT0gMCA/CiAgICAgICAgICAxMDAgOgogICAgICAgICAgTWF0aC5yb3VuZCgocG9zaXRpb24gLyBmaWxlRGF0YS5ieXRlTGVuZ3RoKSAqIDEwMCk7CiAgICAgIHBlcmNlbnQudGV4dENvbnRlbnQgPSBgJHtwZXJjZW50RG9uZX0lIGRvbmVgOwoKICAgIH0gd2hpbGUgKHBvc2l0aW9uIDwgZmlsZURhdGEuYnl0ZUxlbmd0aCk7CiAgfQoKICAvLyBBbGwgZG9uZS4KICB5aWVsZCB7CiAgICByZXNwb25zZTogewogICAgICBhY3Rpb246ICdjb21wbGV0ZScsCiAgICB9CiAgfTsKfQoKc2NvcGUuZ29vZ2xlID0gc2NvcGUuZ29vZ2xlIHx8IHt9OwpzY29wZS5nb29nbGUuY29sYWIgPSBzY29wZS5nb29nbGUuY29sYWIgfHwge307CnNjb3BlLmdvb2dsZS5jb2xhYi5fZmlsZXMgPSB7CiAgX3VwbG9hZEZpbGVzLAogIF91cGxvYWRGaWxlc0NvbnRpbnVlLAp9Owp9KShzZWxmKTsK",
              "ok": true,
              "headers": [
                [
                  "content-type",
                  "application/javascript"
                ]
              ],
              "status": 200,
              "status_text": ""
            }
          },
          "base_uri": "https://localhost:8080/",
          "height": 73
        },
        "outputId": "63d807d5-fa48-46f6-92f8-2cb36bc78d7f"
      },
      "source": [
        "from google.colab import files\n",
        "uploaded = files.upload()"
      ],
      "execution_count": 4,
      "outputs": [
        {
          "output_type": "display_data",
          "data": {
            "text/html": [
              "\n",
              "     <input type=\"file\" id=\"files-a773abef-3f0f-4ed9-ad0b-54888c980081\" name=\"files[]\" multiple disabled\n",
              "        style=\"border:none\" />\n",
              "     <output id=\"result-a773abef-3f0f-4ed9-ad0b-54888c980081\">\n",
              "      Upload widget is only available when the cell has been executed in the\n",
              "      current browser session. Please rerun this cell to enable.\n",
              "      </output>\n",
              "      <script src=\"/nbextensions/google.colab/files.js\"></script> "
            ],
            "text/plain": [
              "<IPython.core.display.HTML object>"
            ]
          },
          "metadata": {
            "tags": []
          }
        },
        {
          "output_type": "stream",
          "text": [
            "Saving liver_kidney_expseq.csv to liver_kidney_expseq.csv\n"
          ],
          "name": "stdout"
        }
      ]
    },
    {
      "cell_type": "code",
      "metadata": {
        "id": "xtXFOZ9xpH_H"
      },
      "source": [
        "#uploaded = files.upload()"
      ],
      "execution_count": 5,
      "outputs": []
    },
    {
      "cell_type": "code",
      "metadata": {
        "id": "oUzctopr9zy5",
        "colab": {
          "base_uri": "https://localhost:8080/",
          "height": 362
        },
        "outputId": "26822034-fec8-45a0-f64b-812d7295e528"
      },
      "source": [
        "data = pd.read_csv('./liver_kidney_expseq.csv', delimiter = ',', index_col=0 )\n",
        "print('Shape:', data.shape)\n",
        "data.head()"
      ],
      "execution_count": 7,
      "outputs": [
        {
          "output_type": "stream",
          "text": [
            "Shape: (812, 1027)\n"
          ],
          "name": "stdout"
        },
        {
          "output_type": "execute_result",
          "data": {
            "text/html": [
              "<div>\n",
              "<style scoped>\n",
              "    .dataframe tbody tr th:only-of-type {\n",
              "        vertical-align: middle;\n",
              "    }\n",
              "\n",
              "    .dataframe tbody tr th {\n",
              "        vertical-align: top;\n",
              "    }\n",
              "\n",
              "    .dataframe thead th {\n",
              "        text-align: right;\n",
              "    }\n",
              "</style>\n",
              "<table border=\"1\" class=\"dataframe\">\n",
              "  <thead>\n",
              "    <tr style=\"text-align: right;\">\n",
              "      <th></th>\n",
              "      <th>0</th>\n",
              "      <th>?</th>\n",
              "      <th>A1BG</th>\n",
              "      <th>A2M</th>\n",
              "      <th>AADAC</th>\n",
              "      <th>ABP1</th>\n",
              "      <th>ACAA1</th>\n",
              "      <th>ACAA2</th>\n",
              "      <th>ACADVL</th>\n",
              "      <th>ACAT1</th>\n",
              "      <th>ACP5</th>\n",
              "      <th>ACSL1</th>\n",
              "      <th>ACSM2A</th>\n",
              "      <th>ACSM2B</th>\n",
              "      <th>ACTA2</th>\n",
              "      <th>ACTB</th>\n",
              "      <th>ACTG1</th>\n",
              "      <th>ACTN4</th>\n",
              "      <th>ACY1</th>\n",
              "      <th>ADH1A</th>\n",
              "      <th>ADH1B</th>\n",
              "      <th>ADH1C</th>\n",
              "      <th>ADH4</th>\n",
              "      <th>ADI1</th>\n",
              "      <th>ADM</th>\n",
              "      <th>AEBP1</th>\n",
              "      <th>AES</th>\n",
              "      <th>AFP</th>\n",
              "      <th>AGR2</th>\n",
              "      <th>AGT</th>\n",
              "      <th>AGXT</th>\n",
              "      <th>AHSG</th>\n",
              "      <th>AIF1L</th>\n",
              "      <th>AKR1A1</th>\n",
              "      <th>AKR1B1</th>\n",
              "      <th>AKR1B10</th>\n",
              "      <th>AKR1C1</th>\n",
              "      <th>AKR1C2</th>\n",
              "      <th>AKR1C3</th>\n",
              "      <th>AKR1C4</th>\n",
              "      <th>...</th>\n",
              "      <th>TUBB2C</th>\n",
              "      <th>TXN</th>\n",
              "      <th>TXNIP</th>\n",
              "      <th>TYROBP</th>\n",
              "      <th>UBB</th>\n",
              "      <th>UBC</th>\n",
              "      <th>UBD</th>\n",
              "      <th>UBL5</th>\n",
              "      <th>UGT1A1</th>\n",
              "      <th>UGT1A4</th>\n",
              "      <th>UGT1A6</th>\n",
              "      <th>UGT1A9</th>\n",
              "      <th>UGT2B15</th>\n",
              "      <th>UGT2B4</th>\n",
              "      <th>UGT2B7</th>\n",
              "      <th>UMOD</th>\n",
              "      <th>UQCRC1</th>\n",
              "      <th>UQCRC2</th>\n",
              "      <th>UQCRH</th>\n",
              "      <th>UQCRQ</th>\n",
              "      <th>USMG5</th>\n",
              "      <th>VAMP8</th>\n",
              "      <th>VCAM1</th>\n",
              "      <th>VDAC1</th>\n",
              "      <th>VEGFA</th>\n",
              "      <th>VIM</th>\n",
              "      <th>VKORC1</th>\n",
              "      <th>VTN</th>\n",
              "      <th>VTRNA1-1</th>\n",
              "      <th>VWF</th>\n",
              "      <th>WDR74</th>\n",
              "      <th>WFDC2</th>\n",
              "      <th>XAGE1D</th>\n",
              "      <th>XBP1</th>\n",
              "      <th>YBX1</th>\n",
              "      <th>YWHAE</th>\n",
              "      <th>YWHAQ</th>\n",
              "      <th>YWHAZ</th>\n",
              "      <th>ZFP36</th>\n",
              "      <th>ZFP36L1</th>\n",
              "    </tr>\n",
              "  </thead>\n",
              "  <tbody>\n",
              "    <tr>\n",
              "      <th>0</th>\n",
              "      <td>0.0</td>\n",
              "      <td>0.000320</td>\n",
              "      <td>1.205316e-06</td>\n",
              "      <td>0.000870</td>\n",
              "      <td>0.000000e+00</td>\n",
              "      <td>0.000136</td>\n",
              "      <td>0.000062</td>\n",
              "      <td>0.000311</td>\n",
              "      <td>0.000478</td>\n",
              "      <td>0.000138</td>\n",
              "      <td>0.000107</td>\n",
              "      <td>0.000222</td>\n",
              "      <td>0.000364</td>\n",
              "      <td>0.000201</td>\n",
              "      <td>0.000777</td>\n",
              "      <td>0.002539</td>\n",
              "      <td>0.001084</td>\n",
              "      <td>0.000233</td>\n",
              "      <td>0.000070</td>\n",
              "      <td>0.000000e+00</td>\n",
              "      <td>2.826390e-07</td>\n",
              "      <td>0.000000e+00</td>\n",
              "      <td>0.000000e+00</td>\n",
              "      <td>0.000121</td>\n",
              "      <td>0.001066</td>\n",
              "      <td>0.000388</td>\n",
              "      <td>0.000246</td>\n",
              "      <td>8.337533e-08</td>\n",
              "      <td>2.792460e-08</td>\n",
              "      <td>0.000091</td>\n",
              "      <td>2.818430e-07</td>\n",
              "      <td>1.733514e-08</td>\n",
              "      <td>0.000048</td>\n",
              "      <td>0.000219</td>\n",
              "      <td>0.000617</td>\n",
              "      <td>4.698390e-08</td>\n",
              "      <td>0.000262</td>\n",
              "      <td>0.000021</td>\n",
              "      <td>0.000148</td>\n",
              "      <td>1.100184e-07</td>\n",
              "      <td>...</td>\n",
              "      <td>0.000096</td>\n",
              "      <td>0.000374</td>\n",
              "      <td>0.000781</td>\n",
              "      <td>0.000220</td>\n",
              "      <td>0.001093</td>\n",
              "      <td>0.002120</td>\n",
              "      <td>0.000385</td>\n",
              "      <td>0.000357</td>\n",
              "      <td>1.687890e-06</td>\n",
              "      <td>1.326139e-07</td>\n",
              "      <td>0.000035</td>\n",
              "      <td>0.000296</td>\n",
              "      <td>2.370085e-07</td>\n",
              "      <td>0.000000e+00</td>\n",
              "      <td>0.000103</td>\n",
              "      <td>9.593786e-08</td>\n",
              "      <td>0.000100</td>\n",
              "      <td>0.000183</td>\n",
              "      <td>0.000074</td>\n",
              "      <td>0.000074</td>\n",
              "      <td>0.000246</td>\n",
              "      <td>0.000235</td>\n",
              "      <td>0.000411</td>\n",
              "      <td>0.000341</td>\n",
              "      <td>0.002579</td>\n",
              "      <td>0.004286</td>\n",
              "      <td>0.000217</td>\n",
              "      <td>1.720146e-07</td>\n",
              "      <td>0.0</td>\n",
              "      <td>0.000298</td>\n",
              "      <td>0.000036</td>\n",
              "      <td>0.000008</td>\n",
              "      <td>0.000000e+00</td>\n",
              "      <td>0.000081</td>\n",
              "      <td>0.000351</td>\n",
              "      <td>0.000532</td>\n",
              "      <td>0.000179</td>\n",
              "      <td>0.000269</td>\n",
              "      <td>0.000443</td>\n",
              "      <td>0.000245</td>\n",
              "    </tr>\n",
              "    <tr>\n",
              "      <th>1</th>\n",
              "      <td>0.0</td>\n",
              "      <td>0.000258</td>\n",
              "      <td>1.041018e-06</td>\n",
              "      <td>0.001258</td>\n",
              "      <td>1.137360e-07</td>\n",
              "      <td>0.000106</td>\n",
              "      <td>0.000051</td>\n",
              "      <td>0.000164</td>\n",
              "      <td>0.000271</td>\n",
              "      <td>0.000136</td>\n",
              "      <td>0.000037</td>\n",
              "      <td>0.000286</td>\n",
              "      <td>0.000167</td>\n",
              "      <td>0.000160</td>\n",
              "      <td>0.001161</td>\n",
              "      <td>0.003779</td>\n",
              "      <td>0.002051</td>\n",
              "      <td>0.000252</td>\n",
              "      <td>0.000048</td>\n",
              "      <td>3.426129e-07</td>\n",
              "      <td>1.215082e-05</td>\n",
              "      <td>4.410115e-07</td>\n",
              "      <td>2.253563e-08</td>\n",
              "      <td>0.000080</td>\n",
              "      <td>0.000208</td>\n",
              "      <td>0.000175</td>\n",
              "      <td>0.000327</td>\n",
              "      <td>9.149890e-08</td>\n",
              "      <td>2.542967e-07</td>\n",
              "      <td>0.000052</td>\n",
              "      <td>1.144449e-06</td>\n",
              "      <td>0.000000e+00</td>\n",
              "      <td>0.000013</td>\n",
              "      <td>0.000149</td>\n",
              "      <td>0.000748</td>\n",
              "      <td>2.005947e-06</td>\n",
              "      <td>0.000029</td>\n",
              "      <td>0.000008</td>\n",
              "      <td>0.000361</td>\n",
              "      <td>4.016505e-08</td>\n",
              "      <td>...</td>\n",
              "      <td>0.000180</td>\n",
              "      <td>0.000374</td>\n",
              "      <td>0.000464</td>\n",
              "      <td>0.000249</td>\n",
              "      <td>0.001031</td>\n",
              "      <td>0.001528</td>\n",
              "      <td>0.000093</td>\n",
              "      <td>0.000328</td>\n",
              "      <td>2.607222e-06</td>\n",
              "      <td>1.033913e-07</td>\n",
              "      <td>0.000164</td>\n",
              "      <td>0.000079</td>\n",
              "      <td>2.068509e-08</td>\n",
              "      <td>0.000000e+00</td>\n",
              "      <td>0.000073</td>\n",
              "      <td>0.000000e+00</td>\n",
              "      <td>0.000108</td>\n",
              "      <td>0.000199</td>\n",
              "      <td>0.000253</td>\n",
              "      <td>0.000070</td>\n",
              "      <td>0.000220</td>\n",
              "      <td>0.000103</td>\n",
              "      <td>0.000212</td>\n",
              "      <td>0.000254</td>\n",
              "      <td>0.001225</td>\n",
              "      <td>0.004354</td>\n",
              "      <td>0.000247</td>\n",
              "      <td>1.626847e-07</td>\n",
              "      <td>0.0</td>\n",
              "      <td>0.000298</td>\n",
              "      <td>0.000029</td>\n",
              "      <td>0.000048</td>\n",
              "      <td>0.000000e+00</td>\n",
              "      <td>0.000182</td>\n",
              "      <td>0.000555</td>\n",
              "      <td>0.000547</td>\n",
              "      <td>0.000277</td>\n",
              "      <td>0.000553</td>\n",
              "      <td>0.000328</td>\n",
              "      <td>0.000312</td>\n",
              "    </tr>\n",
              "    <tr>\n",
              "      <th>2</th>\n",
              "      <td>0.0</td>\n",
              "      <td>0.000264</td>\n",
              "      <td>5.559443e-07</td>\n",
              "      <td>0.000696</td>\n",
              "      <td>0.000000e+00</td>\n",
              "      <td>0.000631</td>\n",
              "      <td>0.000066</td>\n",
              "      <td>0.000534</td>\n",
              "      <td>0.000367</td>\n",
              "      <td>0.000244</td>\n",
              "      <td>0.000123</td>\n",
              "      <td>0.000208</td>\n",
              "      <td>0.000232</td>\n",
              "      <td>0.000141</td>\n",
              "      <td>0.000262</td>\n",
              "      <td>0.001977</td>\n",
              "      <td>0.001453</td>\n",
              "      <td>0.000225</td>\n",
              "      <td>0.000104</td>\n",
              "      <td>4.961943e-08</td>\n",
              "      <td>4.468265e-06</td>\n",
              "      <td>6.385555e-08</td>\n",
              "      <td>1.141919e-08</td>\n",
              "      <td>0.000114</td>\n",
              "      <td>0.000374</td>\n",
              "      <td>0.000065</td>\n",
              "      <td>0.000261</td>\n",
              "      <td>0.000000e+00</td>\n",
              "      <td>0.000000e+00</td>\n",
              "      <td>0.000180</td>\n",
              "      <td>6.049459e-07</td>\n",
              "      <td>4.819312e-08</td>\n",
              "      <td>0.000020</td>\n",
              "      <td>0.000281</td>\n",
              "      <td>0.000089</td>\n",
              "      <td>0.000000e+00</td>\n",
              "      <td>0.000141</td>\n",
              "      <td>0.000020</td>\n",
              "      <td>0.000378</td>\n",
              "      <td>2.442844e-07</td>\n",
              "      <td>...</td>\n",
              "      <td>0.000153</td>\n",
              "      <td>0.000776</td>\n",
              "      <td>0.000428</td>\n",
              "      <td>0.000190</td>\n",
              "      <td>0.001627</td>\n",
              "      <td>0.001935</td>\n",
              "      <td>0.000235</td>\n",
              "      <td>0.000346</td>\n",
              "      <td>1.792879e-06</td>\n",
              "      <td>1.265033e-07</td>\n",
              "      <td>0.000254</td>\n",
              "      <td>0.000441</td>\n",
              "      <td>1.048124e-08</td>\n",
              "      <td>0.000000e+00</td>\n",
              "      <td>0.000943</td>\n",
              "      <td>2.970525e-08</td>\n",
              "      <td>0.000152</td>\n",
              "      <td>0.000202</td>\n",
              "      <td>0.000315</td>\n",
              "      <td>0.000100</td>\n",
              "      <td>0.000381</td>\n",
              "      <td>0.000390</td>\n",
              "      <td>0.000653</td>\n",
              "      <td>0.000427</td>\n",
              "      <td>0.000727</td>\n",
              "      <td>0.003777</td>\n",
              "      <td>0.000252</td>\n",
              "      <td>1.126681e-06</td>\n",
              "      <td>0.0</td>\n",
              "      <td>0.000206</td>\n",
              "      <td>0.000049</td>\n",
              "      <td>0.000046</td>\n",
              "      <td>0.000000e+00</td>\n",
              "      <td>0.000110</td>\n",
              "      <td>0.000379</td>\n",
              "      <td>0.000645</td>\n",
              "      <td>0.000187</td>\n",
              "      <td>0.000291</td>\n",
              "      <td>0.000113</td>\n",
              "      <td>0.000136</td>\n",
              "    </tr>\n",
              "    <tr>\n",
              "      <th>3</th>\n",
              "      <td>0.0</td>\n",
              "      <td>0.000288</td>\n",
              "      <td>1.599123e-06</td>\n",
              "      <td>0.000942</td>\n",
              "      <td>2.499093e-08</td>\n",
              "      <td>0.000087</td>\n",
              "      <td>0.000046</td>\n",
              "      <td>0.000284</td>\n",
              "      <td>0.000283</td>\n",
              "      <td>0.000083</td>\n",
              "      <td>0.000066</td>\n",
              "      <td>0.000189</td>\n",
              "      <td>0.000076</td>\n",
              "      <td>0.000076</td>\n",
              "      <td>0.000372</td>\n",
              "      <td>0.002800</td>\n",
              "      <td>0.001700</td>\n",
              "      <td>0.000242</td>\n",
              "      <td>0.000056</td>\n",
              "      <td>1.280968e-07</td>\n",
              "      <td>6.876787e-06</td>\n",
              "      <td>2.212439e-07</td>\n",
              "      <td>1.587955e-07</td>\n",
              "      <td>0.000117</td>\n",
              "      <td>0.000198</td>\n",
              "      <td>0.000092</td>\n",
              "      <td>0.000325</td>\n",
              "      <td>1.392887e-06</td>\n",
              "      <td>8.867711e-08</td>\n",
              "      <td>0.000073</td>\n",
              "      <td>1.521965e-06</td>\n",
              "      <td>5.565499e-08</td>\n",
              "      <td>0.000042</td>\n",
              "      <td>0.000151</td>\n",
              "      <td>0.000254</td>\n",
              "      <td>5.295259e-04</td>\n",
              "      <td>0.000153</td>\n",
              "      <td>0.000018</td>\n",
              "      <td>0.000281</td>\n",
              "      <td>1.054537e-07</td>\n",
              "      <td>...</td>\n",
              "      <td>0.000113</td>\n",
              "      <td>0.000613</td>\n",
              "      <td>0.000861</td>\n",
              "      <td>0.000233</td>\n",
              "      <td>0.001224</td>\n",
              "      <td>0.001802</td>\n",
              "      <td>0.000417</td>\n",
              "      <td>0.000313</td>\n",
              "      <td>2.388011e-06</td>\n",
              "      <td>3.599584e-07</td>\n",
              "      <td>0.000122</td>\n",
              "      <td>0.000173</td>\n",
              "      <td>1.093908e-07</td>\n",
              "      <td>2.035745e-08</td>\n",
              "      <td>0.000264</td>\n",
              "      <td>0.000000e+00</td>\n",
              "      <td>0.000104</td>\n",
              "      <td>0.000205</td>\n",
              "      <td>0.000088</td>\n",
              "      <td>0.000071</td>\n",
              "      <td>0.000267</td>\n",
              "      <td>0.000252</td>\n",
              "      <td>0.000202</td>\n",
              "      <td>0.000340</td>\n",
              "      <td>0.001565</td>\n",
              "      <td>0.005108</td>\n",
              "      <td>0.000185</td>\n",
              "      <td>9.536935e-08</td>\n",
              "      <td>0.0</td>\n",
              "      <td>0.000515</td>\n",
              "      <td>0.000042</td>\n",
              "      <td>0.000047</td>\n",
              "      <td>5.798708e-07</td>\n",
              "      <td>0.000214</td>\n",
              "      <td>0.000293</td>\n",
              "      <td>0.000500</td>\n",
              "      <td>0.000242</td>\n",
              "      <td>0.000353</td>\n",
              "      <td>0.000165</td>\n",
              "      <td>0.000143</td>\n",
              "    </tr>\n",
              "    <tr>\n",
              "      <th>4</th>\n",
              "      <td>0.0</td>\n",
              "      <td>0.000247</td>\n",
              "      <td>2.226037e-06</td>\n",
              "      <td>0.001935</td>\n",
              "      <td>0.000000e+00</td>\n",
              "      <td>0.000249</td>\n",
              "      <td>0.000058</td>\n",
              "      <td>0.000382</td>\n",
              "      <td>0.000224</td>\n",
              "      <td>0.000090</td>\n",
              "      <td>0.000033</td>\n",
              "      <td>0.000178</td>\n",
              "      <td>0.000131</td>\n",
              "      <td>0.000073</td>\n",
              "      <td>0.000552</td>\n",
              "      <td>0.003097</td>\n",
              "      <td>0.001983</td>\n",
              "      <td>0.000370</td>\n",
              "      <td>0.000041</td>\n",
              "      <td>3.047401e-07</td>\n",
              "      <td>1.700954e-05</td>\n",
              "      <td>1.744599e-07</td>\n",
              "      <td>0.000000e+00</td>\n",
              "      <td>0.000124</td>\n",
              "      <td>0.000423</td>\n",
              "      <td>0.000180</td>\n",
              "      <td>0.000357</td>\n",
              "      <td>1.689218e-07</td>\n",
              "      <td>3.518187e-08</td>\n",
              "      <td>0.000016</td>\n",
              "      <td>2.879904e-07</td>\n",
              "      <td>0.000000e+00</td>\n",
              "      <td>0.000027</td>\n",
              "      <td>0.000138</td>\n",
              "      <td>0.000199</td>\n",
              "      <td>1.984058e-08</td>\n",
              "      <td>0.000057</td>\n",
              "      <td>0.000014</td>\n",
              "      <td>0.000292</td>\n",
              "      <td>2.390454e-06</td>\n",
              "      <td>...</td>\n",
              "      <td>0.000136</td>\n",
              "      <td>0.000506</td>\n",
              "      <td>0.001440</td>\n",
              "      <td>0.000183</td>\n",
              "      <td>0.001461</td>\n",
              "      <td>0.002103</td>\n",
              "      <td>0.000125</td>\n",
              "      <td>0.000402</td>\n",
              "      <td>1.526495e-07</td>\n",
              "      <td>0.000000e+00</td>\n",
              "      <td>0.000021</td>\n",
              "      <td>0.000100</td>\n",
              "      <td>1.575874e-07</td>\n",
              "      <td>1.600907e-08</td>\n",
              "      <td>0.000108</td>\n",
              "      <td>0.000000e+00</td>\n",
              "      <td>0.000118</td>\n",
              "      <td>0.000274</td>\n",
              "      <td>0.000232</td>\n",
              "      <td>0.000065</td>\n",
              "      <td>0.000320</td>\n",
              "      <td>0.000259</td>\n",
              "      <td>0.000331</td>\n",
              "      <td>0.000333</td>\n",
              "      <td>0.000637</td>\n",
              "      <td>0.004548</td>\n",
              "      <td>0.000244</td>\n",
              "      <td>1.877394e-07</td>\n",
              "      <td>0.0</td>\n",
              "      <td>0.001402</td>\n",
              "      <td>0.000042</td>\n",
              "      <td>0.000065</td>\n",
              "      <td>0.000000e+00</td>\n",
              "      <td>0.000109</td>\n",
              "      <td>0.000387</td>\n",
              "      <td>0.000789</td>\n",
              "      <td>0.000261</td>\n",
              "      <td>0.000393</td>\n",
              "      <td>0.001079</td>\n",
              "      <td>0.000309</td>\n",
              "    </tr>\n",
              "  </tbody>\n",
              "</table>\n",
              "<p>5 rows × 1027 columns</p>\n",
              "</div>"
            ],
            "text/plain": [
              "     0         ?          A1BG  ...     YWHAZ     ZFP36   ZFP36L1\n",
              "0  0.0  0.000320  1.205316e-06  ...  0.000269  0.000443  0.000245\n",
              "1  0.0  0.000258  1.041018e-06  ...  0.000553  0.000328  0.000312\n",
              "2  0.0  0.000264  5.559443e-07  ...  0.000291  0.000113  0.000136\n",
              "3  0.0  0.000288  1.599123e-06  ...  0.000353  0.000165  0.000143\n",
              "4  0.0  0.000247  2.226037e-06  ...  0.000393  0.001079  0.000309\n",
              "\n",
              "[5 rows x 1027 columns]"
            ]
          },
          "metadata": {
            "tags": []
          },
          "execution_count": 7
        }
      ]
    },
    {
      "cell_type": "code",
      "metadata": {
        "id": "ENF3xxGC7jfn"
      },
      "source": [
        ""
      ],
      "execution_count": 7,
      "outputs": []
    },
    {
      "cell_type": "markdown",
      "metadata": {
        "id": "ACOwRg8Q9KvO"
      },
      "source": [
        "Perform Train-Test split"
      ]
    },
    {
      "cell_type": "code",
      "metadata": {
        "id": "gIuxZhc89KvP"
      },
      "source": [
        "xtr00, xte0, ytr0, yte0 = train_test_split(data.iloc[:, 1:], data.iloc[:,0], test_size=0.3, random_state=42)\n",
        "#ytr = ytr0.sort_values(by = [0])\n",
        "ytr = ytr0\n",
        "xtr0 = xtr00.reindex(ytr.index)\n",
        "ytr = ytr.values\n",
        "yte = yte0.values\n",
        "ytr[ytr == 0] = -1\n",
        "yte[yte == 0] = -1"
      ],
      "execution_count": 8,
      "outputs": []
    },
    {
      "cell_type": "markdown",
      "metadata": {
        "id": "9qN14AUb9KvS"
      },
      "source": [
        "MinMax Scaler between 0 and 1"
      ]
    },
    {
      "cell_type": "code",
      "metadata": {
        "id": "7p0BF8Gg9KvT"
      },
      "source": [
        "from sklearn.preprocessing import MinMaxScaler\n",
        "scaler = MinMaxScaler()\n",
        "xtr = pd.DataFrame(scaler.fit_transform(xtr0.values))\n",
        "xte = pd.DataFrame(scaler.transform(xte0))"
      ],
      "execution_count": 9,
      "outputs": []
    },
    {
      "cell_type": "code",
      "metadata": {
        "id": "bnMU8ywNB3dy",
        "colab": {
          "base_uri": "https://localhost:8080/"
        },
        "outputId": "8dbb02f1-beb7-42d5-faed-de59771ee184"
      },
      "source": [
        "xtr.shape"
      ],
      "execution_count": 10,
      "outputs": [
        {
          "output_type": "execute_result",
          "data": {
            "text/plain": [
              "(568, 1026)"
            ]
          },
          "metadata": {
            "tags": []
          },
          "execution_count": 10
        }
      ]
    },
    {
      "cell_type": "markdown",
      "metadata": {
        "id": "uGBc9b8CB3d1"
      },
      "source": [
        "## Principal Component Analysis"
      ]
    },
    {
      "cell_type": "markdown",
      "metadata": {
        "id": "dmHKB0j09KvX"
      },
      "source": [
        "Implement a PCA of the training data for visualization and exploration"
      ]
    },
    {
      "cell_type": "code",
      "metadata": {
        "id": "mo4YwcXd9KvZ"
      },
      "source": [
        "# \n",
        "from sklearn.decomposition import PCA\n",
        "pca = PCA(n_components=5)\n",
        "pca.fit(xtr)\n",
        "xtr_pca = pca.transform(xtr)\n",
        "xte_pca = pca.transform(xte)"
      ],
      "execution_count": 11,
      "outputs": []
    },
    {
      "cell_type": "code",
      "metadata": {
        "id": "gpQGIQyNB3d6",
        "colab": {
          "base_uri": "https://localhost:8080/"
        },
        "outputId": "381e4285-ad7c-4c86-c146-c37b14eb8b17"
      },
      "source": [
        "# check the cumulative variance within the preserved components\n",
        "np.sum(pca.explained_variance_ratio_)"
      ],
      "execution_count": 12,
      "outputs": [
        {
          "output_type": "execute_result",
          "data": {
            "text/plain": [
              "0.6008211335334258"
            ]
          },
          "metadata": {
            "tags": []
          },
          "execution_count": 12
        }
      ]
    },
    {
      "cell_type": "code",
      "metadata": {
        "id": "0XpAoBjxl978",
        "colab": {
          "base_uri": "https://localhost:8080/",
          "height": 334
        },
        "outputId": "02f60b39-bd53-425e-d5da-98c11f94c717"
      },
      "source": [
        "sns.barplot(np.arange(0,5),pca.explained_variance_ratio_)\n",
        "plt.title('Explained variance per principal component')\n",
        "plt.show()"
      ],
      "execution_count": 13,
      "outputs": [
        {
          "output_type": "stream",
          "text": [
            "/usr/local/lib/python3.7/dist-packages/seaborn/_decorators.py:43: FutureWarning: Pass the following variables as keyword args: x, y. From version 0.12, the only valid positional argument will be `data`, and passing other arguments without an explicit keyword will result in an error or misinterpretation.\n",
            "  FutureWarning\n"
          ],
          "name": "stderr"
        },
        {
          "output_type": "display_data",
          "data": {
            "image/png": "[encoded data removed]",
            "text/plain": [
              "<Figure size 432x288 with 1 Axes>"
            ]
          },
          "metadata": {
            "tags": [],
            "needs_background": "light"
          }
        }
      ]
    },
    {
      "cell_type": "code",
      "metadata": {
        "id": "18uvvl8o9Kvf",
        "colab": {
          "base_uri": "https://localhost:8080/",
          "height": 430
        },
        "outputId": "3e7cd05b-e118-4c04-956e-cdd5ca13d2bc"
      },
      "source": [
        "sns.set_style(\"white\")\n",
        "sns.set_context(\"talk\")\n",
        "sns.set_style(\"ticks\")\n",
        "ax1 = plt.subplot()\n",
        "sns.scatterplot(x=xtr_pca[(ytr == 1).ravel(),1], y=xtr_pca[(ytr == 1).ravel(),0], alpha = 0.8, s= 170, legend='full', label = 'liver')\n",
        "sns.scatterplot(x=xtr_pca[(ytr == -1).ravel(),1], y=xtr_pca[(ytr == -1).ravel(),0],alpha = 0.8, s= 170, legend='full', label = 'kidney')\n",
        "ax1.legend(bbox_to_anchor=(-0.2, 1), loc=2, borderaxespad=0.,framealpha=1, frameon=True)\n",
        "ax1.set_xlabel(\"PC 1\")\n",
        "ax1.set_ylabel(\"PC 2\")\n",
        "ax1.figure.set_size_inches( (8,6) )\n",
        "ax1.set_title(\"PCA of training data\")\n",
        "plt.yticks(rotation=45) \n",
        "plt.legend()\n",
        "plt.show()"
      ],
      "execution_count": 14,
      "outputs": [
        {
          "output_type": "display_data",
          "data": {
            "image/png": "[encoded data removed]",
            "text/plain": [
              "<Figure size 576x432 with 1 Axes>"
            ]
          },
          "metadata": {
            "tags": []
          }
        }
      ]
    },
    {
      "cell_type": "markdown",
      "metadata": {
        "id": "IP0sRvRRB3eA"
      },
      "source": [
        "# Kernel-PCA"
      ]
    },
    {
      "cell_type": "code",
      "metadata": {
        "id": "wwa0pRjNB3eA"
      },
      "source": [
        "from sklearn.decomposition import KernelPCA\n",
        "kpca = KernelPCA(n_components=5, kernel='rbf',gamma= 0.001)\n",
        "xtr_kpca = kpca.fit_transform(xtr)\n",
        "xte_kpca = kpca.transform(xte)"
      ],
      "execution_count": 15,
      "outputs": []
    },
    {
      "cell_type": "markdown",
      "metadata": {
        "id": "qRjk5_MR9Kvi"
      },
      "source": [
        "# Autoencoder\n",
        "Here an autoencoder function is defined. The architecture can be changed if it is necessary."
      ]
    },
    {
      "cell_type": "code",
      "metadata": {
        "id": "v7TBuLkd9Kvj"
      },
      "source": [
        "def ae_arch_0(encoding_dim, epochs, bachs, l1_reg, l2_reg, lrate, xtr, xte): \n",
        "    earlstop = keras.callbacks.EarlyStopping(monitor='val_loss', min_delta=0.0001, patience=10,  mode='auto', baseline=None, restore_best_weights=False, verbose=1)\n",
        "    rlrop = keras.callbacks.ReduceLROnPlateau(monitor='val_loss', min_delta=0.001, patience=10, verbose=1, mode='auto')\n",
        "    \n",
        "    ################### Optimizer ###################\n",
        "    optim = keras.optimizers.Adam(lr=lrate)\n",
        "\n",
        "    ################### MODEL ARCHITECTURE ###############\n",
        "    \n",
        "    # 00) INPUT\n",
        "    inputdim = Input(shape=(xtr.shape[1],))\n",
        "    \n",
        "    # 01) DENSE LAYER\n",
        "    encode_i = Dense(200, kernel_regularizer=regularizers.l2(l2_reg), activation = 'relu')(inputdim)\n",
        "    \n",
        "    # 02) BATCH NORM\n",
        "    bn_i = BatchNormalization()(encode_i)\n",
        "    \n",
        "    # 03) DENSE LAYER\n",
        "    encode_ii = Dense(100, activation = 'relu')(bn_i)\n",
        "\n",
        "    latent = Dense(encoding_dim, kernel_regularizer = regularizers.l2(l2_reg), activation = 'relu')(encode_ii)\n",
        "\n",
        "    # 04) DECODER\n",
        "    #decode_i = Dense(100, activation = 'relu')(latent)\n",
        "    decode_ii = Dense(200,activation='relu')(latent)\n",
        "    \n",
        "    # 05) DECODER\n",
        "    decode_iii = Dense(xtr.shape[1],activation='linear')(decode_ii)\n",
        "    \n",
        "    # 06) AUTOENCODER\n",
        "    autoencoder = Model(inputdim, decode_iii)\n",
        "    encoder = Model(inputdim, latent)\n",
        "    \n",
        "    #encoded_input5 = Input(shape=(encoding_dim5,))\n",
        "    #decoder_layer5 = autoencoder5.layers[-3]\n",
        "    #decoder5 = Model(x3, decoder_layer5(x3))\n",
        "\n",
        "    autoencoder.summary()\n",
        "    #keras.utils.plot_model(autoencoder, show_shapes=True)\n",
        "    compression_factor = float(np.shape(xtr)[1]) / encoding_dim\n",
        "    print(\"Compression factor: %s\" % compression_factor)\n",
        "    \n",
        "    ################## COMPILE AND FIT MODEL #############\n",
        "    autoencoder.compile(optimizer=optim, loss='mse')\n",
        "    autoencoder.fit(xtr, xtr,epochs=epochs, batch_size=bachs,  shuffle=True,  validation_data=(xte, xte), callbacks = [earlstop, rlrop])\n",
        "    \n",
        "    histval = autoencoder.history.history['val_loss']\n",
        "    histtra = autoencoder.history.history['loss']\n",
        "    \n",
        "    return encoder, histtra, histval"
      ],
      "execution_count": 16,
      "outputs": []
    },
    {
      "cell_type": "markdown",
      "metadata": {
        "id": "-mfOg4mi9Kvn"
      },
      "source": [
        "Train an autoencoder model. Store the encoder function and the training loss scores."
      ]
    },
    {
      "cell_type": "code",
      "metadata": {
        "id": "iXOLizyS9Kvo",
        "colab": {
          "base_uri": "https://localhost:8080/"
        },
        "outputId": "7711a964-3a66-4ef8-d98e-5ded55b4a9ca"
      },
      "source": [
        "encoder_val, hist_tra, hist_val = ae_arch_0(50,50,32,0.001, 0.003, 0.0001, xtr, xte)"
      ],
      "execution_count": 17,
      "outputs": [
        {
          "output_type": "stream",
          "text": [
            "/usr/local/lib/python3.7/dist-packages/tensorflow/python/keras/optimizer_v2/optimizer_v2.py:375: UserWarning: The `lr` argument is deprecated, use `learning_rate` instead.\n",
            "  \"The `lr` argument is deprecated, use `learning_rate` instead.\")\n"
          ],
          "name": "stderr"
        },
        {
          "output_type": "stream",
          "text": [
            "Model: \"model\"\n",
            "_________________________________________________________________\n",
            "Layer (type)                 Output Shape              Param #   \n",
            "=================================================================\n",
            "input_1 (InputLayer)         [(None, 1026)]            0         \n",
            "_________________________________________________________________\n",
            "dense (Dense)                (None, 200)               205400    \n",
            "_________________________________________________________________\n",
            "batch_normalization (BatchNo (None, 200)               800       \n",
            "_________________________________________________________________\n",
            "dense_1 (Dense)              (None, 100)               20100     \n",
            "_________________________________________________________________\n",
            "dense_2 (Dense)              (None, 50)                5050      \n",
            "_________________________________________________________________\n",
            "dense_3 (Dense)              (None, 200)               10200     \n",
            "_________________________________________________________________\n",
            "dense_4 (Dense)              (None, 1026)              206226    \n",
            "=================================================================\n",
            "Total params: 447,776\n",
            "Trainable params: 447,376\n",
            "Non-trainable params: 400\n",
            "_________________________________________________________________\n",
            "Compression factor: 20.52\n",
            "Epoch 1/50\n",
            "18/18 [==============================] - 16s 48ms/step - loss: 1.2383 - val_loss: 1.3024\n",
            "Epoch 2/50\n",
            "18/18 [==============================] - 0s 8ms/step - loss: 1.1527 - val_loss: 1.2297\n",
            "Epoch 3/50\n",
            "18/18 [==============================] - 0s 10ms/step - loss: 1.0781 - val_loss: 1.1594\n",
            "Epoch 4/50\n",
            "18/18 [==============================] - 0s 8ms/step - loss: 1.0038 - val_loss: 1.0932\n",
            "Epoch 5/50\n",
            "18/18 [==============================] - 0s 11ms/step - loss: 0.9357 - val_loss: 1.0312\n",
            "Epoch 6/50\n",
            "18/18 [==============================] - 0s 8ms/step - loss: 0.8743 - val_loss: 0.9742\n",
            "Epoch 7/50\n",
            "18/18 [==============================] - 0s 9ms/step - loss: 0.8165 - val_loss: 0.9202\n",
            "Epoch 8/50\n",
            "18/18 [==============================] - 0s 8ms/step - loss: 0.7631 - val_loss: 0.8712\n",
            "Epoch 9/50\n",
            "18/18 [==============================] - 0s 8ms/step - loss: 0.7120 - val_loss: 0.8237\n",
            "Epoch 10/50\n",
            "18/18 [==============================] - 0s 9ms/step - loss: 0.6658 - val_loss: 0.7805\n",
            "Epoch 11/50\n",
            "18/18 [==============================] - 0s 9ms/step - loss: 0.6229 - val_loss: 0.7395\n",
            "Epoch 12/50\n",
            "18/18 [==============================] - 0s 8ms/step - loss: 0.5821 - val_loss: 0.7008\n",
            "Epoch 13/50\n",
            "18/18 [==============================] - 0s 12ms/step - loss: 0.5444 - val_loss: 0.6653\n",
            "Epoch 14/50\n",
            "18/18 [==============================] - 0s 9ms/step - loss: 0.5091 - val_loss: 0.6322\n",
            "Epoch 15/50\n",
            "18/18 [==============================] - 0s 8ms/step - loss: 0.4760 - val_loss: 0.6006\n",
            "Epoch 16/50\n",
            "18/18 [==============================] - 0s 8ms/step - loss: 0.4463 - val_loss: 0.5728\n",
            "Epoch 17/50\n",
            "18/18 [==============================] - 0s 9ms/step - loss: 0.4172 - val_loss: 0.5444\n",
            "Epoch 18/50\n",
            "18/18 [==============================] - 0s 9ms/step - loss: 0.3907 - val_loss: 0.5198\n",
            "Epoch 19/50\n",
            "18/18 [==============================] - 0s 10ms/step - loss: 0.3654 - val_loss: 0.4964\n",
            "Epoch 20/50\n",
            "18/18 [==============================] - 0s 9ms/step - loss: 0.3428 - val_loss: 0.4748\n",
            "Epoch 21/50\n",
            "18/18 [==============================] - 0s 9ms/step - loss: 0.3214 - val_loss: 0.4540\n",
            "Epoch 22/50\n",
            "18/18 [==============================] - 0s 9ms/step - loss: 0.3007 - val_loss: 0.4342\n",
            "Epoch 23/50\n",
            "18/18 [==============================] - 0s 8ms/step - loss: 0.2825 - val_loss: 0.4174\n",
            "Epoch 24/50\n",
            "18/18 [==============================] - 0s 9ms/step - loss: 0.2652 - val_loss: 0.3999\n",
            "Epoch 25/50\n",
            "18/18 [==============================] - 0s 8ms/step - loss: 0.2486 - val_loss: 0.3852\n",
            "Epoch 26/50\n",
            "18/18 [==============================] - 0s 9ms/step - loss: 0.2340 - val_loss: 0.3727\n",
            "Epoch 27/50\n",
            "18/18 [==============================] - 0s 9ms/step - loss: 0.2197 - val_loss: 0.3574\n",
            "Epoch 28/50\n",
            "18/18 [==============================] - 0s 9ms/step - loss: 0.2065 - val_loss: 0.3460\n",
            "Epoch 29/50\n",
            "18/18 [==============================] - 0s 9ms/step - loss: 0.1939 - val_loss: 0.3336\n",
            "Epoch 30/50\n",
            "18/18 [==============================] - 0s 9ms/step - loss: 0.1829 - val_loss: 0.3227\n",
            "Epoch 31/50\n",
            "18/18 [==============================] - 0s 9ms/step - loss: 0.1722 - val_loss: 0.3119\n",
            "Epoch 32/50\n",
            "18/18 [==============================] - 0s 11ms/step - loss: 0.1628 - val_loss: 0.3034\n",
            "Epoch 33/50\n",
            "18/18 [==============================] - 0s 8ms/step - loss: 0.1533 - val_loss: 0.2948\n",
            "Epoch 34/50\n",
            "18/18 [==============================] - 0s 8ms/step - loss: 0.1448 - val_loss: 0.2847\n",
            "Epoch 35/50\n",
            "18/18 [==============================] - 0s 8ms/step - loss: 0.1365 - val_loss: 0.2769\n",
            "Epoch 36/50\n",
            "18/18 [==============================] - 0s 9ms/step - loss: 0.1300 - val_loss: 0.2697\n",
            "Epoch 37/50\n",
            "18/18 [==============================] - 0s 9ms/step - loss: 0.1231 - val_loss: 0.2626\n",
            "Epoch 38/50\n",
            "18/18 [==============================] - 0s 10ms/step - loss: 0.1168 - val_loss: 0.2554\n",
            "Epoch 39/50\n",
            "18/18 [==============================] - 0s 8ms/step - loss: 0.1108 - val_loss: 0.2493\n",
            "Epoch 40/50\n",
            "18/18 [==============================] - 0s 9ms/step - loss: 0.1053 - val_loss: 0.2431\n",
            "Epoch 41/50\n",
            "18/18 [==============================] - 0s 8ms/step - loss: 0.0999 - val_loss: 0.2384\n",
            "Epoch 42/50\n",
            "18/18 [==============================] - 0s 9ms/step - loss: 0.0955 - val_loss: 0.2320\n",
            "Epoch 43/50\n",
            "18/18 [==============================] - 0s 12ms/step - loss: 0.0905 - val_loss: 0.2271\n",
            "Epoch 44/50\n",
            "18/18 [==============================] - 0s 9ms/step - loss: 0.0866 - val_loss: 0.2226\n",
            "Epoch 45/50\n",
            "18/18 [==============================] - 0s 9ms/step - loss: 0.0826 - val_loss: 0.2187\n",
            "Epoch 46/50\n",
            "18/18 [==============================] - 0s 9ms/step - loss: 0.0787 - val_loss: 0.2138\n",
            "Epoch 47/50\n",
            "18/18 [==============================] - 0s 9ms/step - loss: 0.0753 - val_loss: 0.2084\n",
            "Epoch 48/50\n",
            "18/18 [==============================] - 0s 9ms/step - loss: 0.0723 - val_loss: 0.2067\n",
            "Epoch 49/50\n",
            "18/18 [==============================] - 0s 9ms/step - loss: 0.0694 - val_loss: 0.2038\n",
            "Epoch 50/50\n",
            "18/18 [==============================] - 0s 12ms/step - loss: 0.0663 - val_loss: 0.1985\n"
          ],
          "name": "stdout"
        }
      ]
    },
    {
      "cell_type": "markdown",
      "metadata": {
        "id": "9Ee81UH59Kvs"
      },
      "source": [
        "Plot the training and validation Loss."
      ]
    },
    {
      "cell_type": "code",
      "metadata": {
        "id": "nX8mv7Kv9Kvt",
        "colab": {
          "base_uri": "https://localhost:8080/",
          "height": 321
        },
        "outputId": "8089595f-6efd-4468-b423-e51c7b7a00eb"
      },
      "source": [
        "plt.plot(hist_val, c = 'g', label = \"Validation\", marker = 'o', alpha = 0.5)\n",
        "plt.plot(hist_tra, c = 'b', label = \"Training\", marker = 'o', alpha = 0.5)\n",
        "plt.title(\"Autoencoder Loss during training epochs\")\n",
        "plt.legend()\n",
        "plt.xlabel('epochs')\n",
        "plt.ylabel('Loss (MSE)')\n",
        "plt.show()"
      ],
      "execution_count": 26,
      "outputs": [
        {
          "output_type": "display_data",
          "data": {
            "image/png": "[encoded data removed]",
            "text/plain": [
              "<Figure size 432x288 with 1 Axes>"
            ]
          },
          "metadata": {
            "tags": []
          }
        }
      ]
    },
    {
      "cell_type": "markdown",
      "metadata": {
        "id": "2XG88I7q9Kvw"
      },
      "source": [
        "Encode training and validation samples by using the Encoder function to obtain its projection on the latent space."
      ]
    },
    {
      "cell_type": "code",
      "metadata": {
        "id": "ADx7h_uc9Kvx"
      },
      "source": [
        "xlat_tr = encoder_val.predict(xtr)\n",
        "xlat_te = encoder_val.predict(xte)"
      ],
      "execution_count": 27,
      "outputs": []
    },
    {
      "cell_type": "markdown",
      "metadata": {
        "id": "_TDDNjIo9Kv0"
      },
      "source": [
        "Visualize the training samples by class (1 or -1) in the latent space."
      ]
    },
    {
      "cell_type": "markdown",
      "metadata": {
        "id": "u26_Ibe1PjOS"
      },
      "source": [
        "## **Variational Autoencoder**"
      ]
    },
    {
      "cell_type": "code",
      "metadata": {
        "id": "CnTMRyxaU6d3"
      },
      "source": [
        "class Sampling(layers.Layer):\n",
        "\n",
        "    def call(self, inputs):\n",
        "        z_mean, z_log_var = inputs\n",
        "        batch = tf.shape(z_mean)[0]\n",
        "        dim = tf.shape(z_mean)[1]\n",
        "        epsilon = tf.keras.backend.random_normal(shape=(batch, dim), mean = 0.0, stddev = 1)\n",
        "        return z_mean + tf.exp(0.5 * z_log_var) * epsilon\n",
        "\n",
        "class KLDivergence_Layer(layers.Layer):\n",
        "\n",
        "\n",
        "    def __init__(self, *args, **kwargs):\n",
        "        self.is_placeholder = True\n",
        "        super(KLDivergence_Layer, self).__init__(*args, **kwargs)\n",
        "\n",
        "    def call(self, inputs):\n",
        "\n",
        "        mu, log_var = inputs\n",
        "\n",
        "        kl_batch = 0.1*(- .5 * K.sum(1 + log_var -\n",
        "                                K.square(mu) -\n",
        "                                K.exp(log_var), axis=-1))\n",
        "\n",
        "        self.add_loss(K.mean(kl_batch), inputs=inputs)\n",
        "\n",
        "        return inputs\n"
      ],
      "execution_count": 21,
      "outputs": []
    },
    {
      "cell_type": "code",
      "metadata": {
        "id": "TD2JLHEKPif3"
      },
      "source": [
        "def vae_arch_0(encoding_dim, epochs, bachs, l1_reg, l2_reg, lrate, xtr, xte): \n",
        "    earlstop = keras.callbacks.EarlyStopping(monitor='val_loss', min_delta=0.0001, patience=10,  mode='auto', baseline=None, restore_best_weights=False, verbose=1)\n",
        "    rlrop = keras.callbacks.ReduceLROnPlateau(monitor='val_loss', min_delta=0.001, patience=10, verbose=1, mode='auto')\n",
        "    \n",
        "    ################### Optimizer ###################\n",
        "    optim = keras.optimizers.Adam(lr=lrate)\n",
        "\n",
        "    ################### ENCODER #####################\n",
        "    \n",
        "    # 00) INPUT\n",
        "    x_in = Input(shape=(xtr.shape[1],))    \n",
        "    # 01) DENSE LAYER\n",
        "    encode_i = Dense(200, kernel_regularizer=regularizers.l2(l2_reg), activation = 'relu')(x_in)\n",
        "    # 02) BATCH NORM\n",
        "    bn_i = BatchNormalization()(encode_i)\n",
        "    # 03) DENSE LAYER\n",
        "    encode_ii = Dense(100, activation = 'relu')(bn_i)\n",
        "\n",
        "    ################## VARIATIONAL TERM #############\n",
        "    z_mu = Dense(encoding_dim, kernel_regularizer = regularizers.l2(l2_reg), activation = 'relu')(encode_ii)\n",
        "    z_log_var = Dense(encoding_dim, kernel_regularizer = regularizers.l2(l2_reg), activation = 'relu')(encode_ii)\n",
        "\n",
        "    ## z_mu + z_log_var\n",
        "    z_mu, z_log_var = KLDivergence_Layer()([z_mu, z_log_var])\n",
        "    z_sampling = Sampling(name = 'encoder_output')([z_mu, z_log_var])\n",
        "    z = Dense(encoding_dim, 'linear')(z_sampling)    \n",
        "\n",
        "    ################## DECODER #####################\n",
        "    z_in = Input(shape=(encoding_dim, ))\n",
        "\n",
        "    decode_i = Dense(100, activation = 'relu')(z_in)\n",
        "    decode_ii = Dense(200,activation='relu')(decode_i)\n",
        "    decode_iii = Dense(xtr.shape[1],activation='linear')(decode_ii)\n",
        "    \n",
        "    # define Variational AUTOENCODER\n",
        "    vae = tf.keras.models.Model(x_in, decoder(encoder(x_in)), name=\"VAE\")\n",
        "    vae.summary()\n",
        "\n",
        "    # define encoder\n",
        "    encoder = keras.Model(inputs=x_in, outputs = z, name=\"encoder_model\")\n",
        "    encoder.summary()\n",
        "\n",
        "    # define decoder\n",
        "    decoder = Model(inputs = z_in, outputs = decode_iii, name=\"decoder\")\n",
        "    decoder.summary()\n",
        "\n",
        "    ################## COMPILE AND FIT MODEL #############\n",
        "    vae.compile(optimizer=optim, loss='mse')\n",
        "    vae.fit(xtr, xtr,epochs=epochs, batch_size=bachs,  shuffle=True,  validation_data=(xte, xte), callbacks = [earlstop, rlrop])\n",
        "    \n",
        "    histval = vae.history.history['val_loss']\n",
        "    histtra = vae.history.history['loss']\n",
        "    \n",
        "    return encoder,decoder, vae, histtra, histval"
      ],
      "execution_count": 22,
      "outputs": []
    },
    {
      "cell_type": "code",
      "metadata": {
        "colab": {
          "base_uri": "https://localhost:8080/"
        },
        "id": "A61kd9BXPij1",
        "outputId": "374eec5e-a8f4-4f6b-a798-c0b54f02ee93"
      },
      "source": [
        "\n",
        "vae_enc, vae_dec, vae, histtra, histval = vae_arch_0(50, 50, 32, 0.001, 0.003, 0.0001, xtr, xte)"
      ],
      "execution_count": 23,
      "outputs": [
        {
          "output_type": "stream",
          "text": [
            "/usr/local/lib/python3.7/dist-packages/tensorflow/python/keras/optimizer_v2/optimizer_v2.py:375: UserWarning: The `lr` argument is deprecated, use `learning_rate` instead.\n",
            "  \"The `lr` argument is deprecated, use `learning_rate` instead.\")\n"
          ],
          "name": "stderr"
        },
        {
          "output_type": "stream",
          "text": [
            "Model: \"encoder_model\"\n",
            "__________________________________________________________________________________________________\n",
            "Layer (type)                    Output Shape         Param #     Connected to                     \n",
            "==================================================================================================\n",
            "input_2 (InputLayer)            [(None, 1026)]       0                                            \n",
            "__________________________________________________________________________________________________\n",
            "dense_5 (Dense)                 (None, 200)          205400      input_2[0][0]                    \n",
            "__________________________________________________________________________________________________\n",
            "batch_normalization_1 (BatchNor (None, 200)          800         dense_5[0][0]                    \n",
            "__________________________________________________________________________________________________\n",
            "dense_6 (Dense)                 (None, 100)          20100       batch_normalization_1[0][0]      \n",
            "__________________________________________________________________________________________________\n",
            "dense_7 (Dense)                 (None, 50)           5050        dense_6[0][0]                    \n",
            "__________________________________________________________________________________________________\n",
            "dense_8 (Dense)                 (None, 50)           5050        dense_6[0][0]                    \n",
            "__________________________________________________________________________________________________\n",
            "kl_divergence_layer (KLDivergen [(None, 50), (None,  0           dense_7[0][0]                    \n",
            "                                                                 dense_8[0][0]                    \n",
            "__________________________________________________________________________________________________\n",
            "encoder_output (Sampling)       (None, 50)           0           kl_divergence_layer[0][0]        \n",
            "                                                                 kl_divergence_layer[0][1]        \n",
            "__________________________________________________________________________________________________\n",
            "dense_9 (Dense)                 (None, 50)           2550        encoder_output[0][0]             \n",
            "==================================================================================================\n",
            "Total params: 238,950\n",
            "Trainable params: 238,550\n",
            "Non-trainable params: 400\n",
            "__________________________________________________________________________________________________\n",
            "Model: \"decoder\"\n",
            "_________________________________________________________________\n",
            "Layer (type)                 Output Shape              Param #   \n",
            "=================================================================\n",
            "input_3 (InputLayer)         [(None, 50)]              0         \n",
            "_________________________________________________________________\n",
            "dense_10 (Dense)             (None, 100)               5100      \n",
            "_________________________________________________________________\n",
            "dense_11 (Dense)             (None, 200)               20200     \n",
            "_________________________________________________________________\n",
            "dense_12 (Dense)             (None, 1026)              206226    \n",
            "=================================================================\n",
            "Total params: 231,526\n",
            "Trainable params: 231,526\n",
            "Non-trainable params: 0\n",
            "_________________________________________________________________\n",
            "Model: \"VAE\"\n",
            "_________________________________________________________________\n",
            "Layer (type)                 Output Shape              Param #   \n",
            "=================================================================\n",
            "Total params: 470,476\n",
            "Trainable params: 470,076\n",
            "Non-trainable params: 400\n",
            "_________________________________________________________________\n",
            "Epoch 1/50\n",
            "18/18 [==============================] - 1s 33ms/step - loss: 0.0689 - val_loss: 0.2307\n",
            "Epoch 2/50\n",
            "18/18 [==============================] - 0s 9ms/step - loss: 0.0504 - val_loss: 0.2568\n",
            "Epoch 3/50\n",
            "18/18 [==============================] - 0s 9ms/step - loss: 0.0417 - val_loss: 0.2008\n",
            "Epoch 4/50\n",
            "18/18 [==============================] - 0s 9ms/step - loss: 0.0363 - val_loss: 0.1690\n",
            "Epoch 5/50\n",
            "18/18 [==============================] - 0s 9ms/step - loss: 0.0331 - val_loss: 0.1691\n",
            "Epoch 6/50\n",
            "18/18 [==============================] - 0s 9ms/step - loss: 0.0305 - val_loss: 0.2013\n",
            "Epoch 7/50\n",
            "18/18 [==============================] - 0s 10ms/step - loss: 0.0284 - val_loss: 0.3467\n",
            "Epoch 8/50\n",
            "18/18 [==============================] - 0s 9ms/step - loss: 0.0261 - val_loss: 0.2728\n",
            "Epoch 9/50\n",
            "18/18 [==============================] - 0s 9ms/step - loss: 0.0246 - val_loss: 0.1753\n",
            "Epoch 10/50\n",
            "18/18 [==============================] - 0s 8ms/step - loss: 0.0228 - val_loss: 0.2437\n",
            "Epoch 11/50\n",
            "18/18 [==============================] - 0s 9ms/step - loss: 0.0217 - val_loss: 0.1649\n",
            "Epoch 12/50\n",
            "18/18 [==============================] - 0s 8ms/step - loss: 0.0204 - val_loss: 0.1640\n",
            "Epoch 13/50\n",
            "18/18 [==============================] - 0s 8ms/step - loss: 0.0191 - val_loss: 0.1774\n",
            "Epoch 14/50\n",
            "18/18 [==============================] - 0s 8ms/step - loss: 0.0184 - val_loss: 0.1515\n",
            "Epoch 15/50\n",
            "18/18 [==============================] - 0s 9ms/step - loss: 0.0175 - val_loss: 0.2343\n",
            "Epoch 16/50\n",
            "18/18 [==============================] - 0s 8ms/step - loss: 0.0169 - val_loss: 0.1610\n",
            "Epoch 17/50\n",
            "18/18 [==============================] - 0s 8ms/step - loss: 0.0163 - val_loss: 0.2062\n",
            "Epoch 18/50\n",
            "18/18 [==============================] - 0s 10ms/step - loss: 0.0158 - val_loss: 0.1656\n",
            "Epoch 19/50\n",
            "18/18 [==============================] - 0s 8ms/step - loss: 0.0155 - val_loss: 0.1488\n",
            "Epoch 20/50\n",
            "18/18 [==============================] - 0s 8ms/step - loss: 0.0151 - val_loss: 0.1519\n",
            "Epoch 21/50\n",
            "18/18 [==============================] - 0s 9ms/step - loss: 0.0149 - val_loss: 0.1627\n",
            "Epoch 22/50\n",
            "18/18 [==============================] - 0s 9ms/step - loss: 0.0147 - val_loss: 0.1799\n",
            "Epoch 23/50\n",
            "18/18 [==============================] - 0s 9ms/step - loss: 0.0144 - val_loss: 0.1521\n",
            "Epoch 24/50\n",
            "18/18 [==============================] - 0s 11ms/step - loss: 0.0142 - val_loss: 0.1472\n",
            "Epoch 25/50\n",
            "18/18 [==============================] - 0s 8ms/step - loss: 0.0140 - val_loss: 0.1621\n",
            "Epoch 26/50\n",
            "18/18 [==============================] - 0s 9ms/step - loss: 0.0138 - val_loss: 0.1540\n",
            "Epoch 27/50\n",
            "18/18 [==============================] - 0s 8ms/step - loss: 0.0134 - val_loss: 0.1459\n",
            "Epoch 28/50\n",
            "18/18 [==============================] - 0s 9ms/step - loss: 0.0131 - val_loss: 0.1453\n",
            "Epoch 29/50\n",
            "18/18 [==============================] - 0s 8ms/step - loss: 0.0125 - val_loss: 0.1591\n",
            "Epoch 30/50\n",
            "18/18 [==============================] - 0s 9ms/step - loss: 0.0118 - val_loss: 0.2908\n",
            "Epoch 31/50\n",
            "18/18 [==============================] - 0s 8ms/step - loss: 0.0113 - val_loss: 0.1428\n",
            "Epoch 32/50\n",
            "18/18 [==============================] - 0s 9ms/step - loss: 0.0108 - val_loss: 0.1419\n",
            "Epoch 33/50\n",
            "18/18 [==============================] - 0s 8ms/step - loss: 0.0105 - val_loss: 0.1410\n",
            "Epoch 34/50\n",
            "18/18 [==============================] - 0s 9ms/step - loss: 0.0103 - val_loss: 0.1404\n",
            "Epoch 35/50\n",
            "18/18 [==============================] - 0s 8ms/step - loss: 0.0101 - val_loss: 0.1468\n",
            "Epoch 36/50\n",
            "18/18 [==============================] - 0s 8ms/step - loss: 0.0100 - val_loss: 0.1589\n",
            "Epoch 37/50\n",
            "18/18 [==============================] - 0s 9ms/step - loss: 0.0100 - val_loss: 0.1424\n",
            "Epoch 38/50\n",
            "18/18 [==============================] - 0s 9ms/step - loss: 0.0099 - val_loss: 0.1456\n",
            "Epoch 39/50\n",
            "18/18 [==============================] - 0s 8ms/step - loss: 0.0098 - val_loss: 0.1481\n",
            "Epoch 40/50\n",
            "18/18 [==============================] - 0s 9ms/step - loss: 0.0097 - val_loss: 0.1384\n",
            "Epoch 41/50\n",
            "18/18 [==============================] - 0s 8ms/step - loss: 0.0097 - val_loss: 0.1388\n",
            "Epoch 42/50\n",
            "18/18 [==============================] - 0s 8ms/step - loss: 0.0097 - val_loss: 0.1405\n",
            "Epoch 43/50\n",
            "18/18 [==============================] - 0s 9ms/step - loss: 0.0096 - val_loss: 0.1398\n",
            "Epoch 44/50\n",
            "18/18 [==============================] - 0s 9ms/step - loss: 0.0096 - val_loss: 0.1514\n",
            "Epoch 45/50\n",
            "18/18 [==============================] - 0s 9ms/step - loss: 0.0096 - val_loss: 0.1381\n",
            "Epoch 46/50\n",
            "18/18 [==============================] - 0s 9ms/step - loss: 0.0095 - val_loss: 0.1381\n",
            "Epoch 47/50\n",
            "18/18 [==============================] - 0s 8ms/step - loss: 0.0095 - val_loss: 0.2392\n",
            "Epoch 48/50\n",
            "18/18 [==============================] - 0s 8ms/step - loss: 0.0094 - val_loss: 0.1394\n",
            "Epoch 49/50\n",
            "18/18 [==============================] - 0s 8ms/step - loss: 0.0094 - val_loss: 0.1406\n",
            "Epoch 50/50\n",
            "18/18 [==============================] - 0s 9ms/step - loss: 0.0093 - val_loss: 0.1392\n",
            "\n",
            "Epoch 00050: ReduceLROnPlateau reducing learning rate to 9.999999747378752e-06.\n"
          ],
          "name": "stdout"
        }
      ]
    },
    {
      "cell_type": "code",
      "metadata": {
        "colab": {
          "base_uri": "https://localhost:8080/",
          "height": 321
        },
        "id": "6vg4P7HdKpGe",
        "outputId": "7a3a284c-0dbb-4b8a-80d4-43986f41ea50"
      },
      "source": [
        "plt.plot(hist_val, c = 'g', label = \"Validation\", marker = 'o', alpha = 0.5)\n",
        "plt.plot(hist_tra, c = 'b', label = \"Training\", marker = 'o', alpha = 0.5)\n",
        "plt.title(\"Autoencoder Loss during training epochs\")\n",
        "plt.legend()\n",
        "plt.xlabel('epochs')\n",
        "plt.ylabel('Loss (MSE)')\n",
        "plt.show()"
      ],
      "execution_count": 28,
      "outputs": [
        {
          "output_type": "display_data",
          "data": {
            "image/png": "[encoded data removed]",
            "text/plain": [
              "<Figure size 432x288 with 1 Axes>"
            ]
          },
          "metadata": {
            "tags": []
          }
        }
      ]
    },
    {
      "cell_type": "code",
      "metadata": {
        "id": "sdE_GGSpPim4"
      },
      "source": [
        "vae_enc"
      ],
      "execution_count": 24,
      "outputs": []
    },
    {
      "cell_type": "code",
      "metadata": {
        "id": "mKzeP5JXPiqT"
      },
      "source": [
        "xtr_vae = vae_enc.predict(xtr)\n",
        "xte_vae = vae_enc.predict(xte)"
      ],
      "execution_count": 30,
      "outputs": []
    },
    {
      "cell_type": "markdown",
      "metadata": {
        "id": "6L6Y8mM9B3fH"
      },
      "source": [
        "# Visualize "
      ]
    },
    {
      "cell_type": "code",
      "metadata": {
        "id": "k2Nm42Md9Kv0"
      },
      "source": [
        "xtr_ae_tsne = TSNE(n_components=2).fit_transform(xlat_tr)\n",
        "xtr_kpca_tsne = TSNE(n_components=2).fit_transform(xtr_kpca)\n",
        "xtr_pca_tsne = TSNE(n_components=2).fit_transform(xtr_pca)\n",
        "xtr_vae_tsne = TSNE(n_components=2).fit_transform(xtr_vae)"
      ],
      "execution_count": 31,
      "outputs": []
    },
    {
      "cell_type": "code",
      "metadata": {
        "id": "b3C5vXriB3fK",
        "colab": {
          "base_uri": "https://localhost:8080/",
          "height": 299
        },
        "outputId": "7d597e31-83e4-44ad-e3ed-18bcbe3ea9fe"
      },
      "source": [
        "f, ax = plt.subplots(1,4)\n",
        "f.set_size_inches(12,4)\n",
        "sns.scatterplot(x = xtr_ae_tsne[(ytr).ravel() == -1,0], y = xtr_ae_tsne[ytr.ravel() == -1,1], ax= ax[0])\n",
        "sns.scatterplot(x = xtr_ae_tsne[ytr.ravel() == 1,0], y = xtr_ae_tsne[ytr.ravel() == 1,1], ax= ax[0])\n",
        "ax[0].set_title(\"AE\")\n",
        "sns.scatterplot(x = xtr_kpca_tsne[(ytr).ravel() == -1,0], y = xtr_kpca_tsne[ytr.ravel() == -1,1], ax= ax[1])\n",
        "sns.scatterplot(x = xtr_kpca_tsne[ytr.ravel() == 1,0], y = xtr_kpca_tsne[ytr.ravel() == 1,1], ax= ax[1])\n",
        "ax[1].set_title(\"KPCA\")\n",
        "sns.scatterplot(x = xtr_pca_tsne[(ytr).ravel() == -1,0], y = xtr_pca_tsne[ytr.ravel() == -1,1], ax= ax[2])\n",
        "sns.scatterplot(x = xtr_pca_tsne[ytr.ravel() == 1,0], y = xtr_pca_tsne[ytr.ravel() == 1,1], ax= ax[2])\n",
        "ax[2].set_title(\"PCA\")\n",
        "sns.scatterplot(x = xtr_vae_tsne[(ytr).ravel() == -1,0], y = xtr_vae_tsne[ytr.ravel() == -1,1], ax= ax[3])\n",
        "sns.scatterplot(x = xtr_vae_tsne[ytr.ravel() == 1,0], y = xtr_vae_tsne[ytr.ravel() == 1,1], ax= ax[3])\n",
        "ax[3].set_title(\"VAE\")\n",
        "plt.show()"
      ],
      "execution_count": 32,
      "outputs": [
        {
          "output_type": "display_data",
          "data": {
            "image/png": "[encoded data removed]",
            "text/plain": [
              "<Figure size 864x288 with 4 Axes>"
            ]
          },
          "metadata": {
            "tags": []
          }
        }
      ]
    },
    {
      "cell_type": "code",
      "metadata": {
        "id": "1Pdcyy_MB3fM"
      },
      "source": [
        ""
      ],
      "execution_count": null,
      "outputs": []
    }
  ]
}